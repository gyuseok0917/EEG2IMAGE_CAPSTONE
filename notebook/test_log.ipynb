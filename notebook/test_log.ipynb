{
 "cells": [
  {
   "cell_type": "code",
   "execution_count": 1,
   "id": "f725f694",
   "metadata": {},
   "outputs": [],
   "source": [
    "import os\n",
    "workspace = \"/workspace\"\n",
    "os.chdir(workspace)\n",
    "\n",
    "import numpy as np\n",
    "import pandas as pd\n",
    "import matplotlib.pyplot as plt"
   ]
  },
  {
   "cell_type": "code",
   "execution_count": 5,
   "id": "a8205f8d",
   "metadata": {},
   "outputs": [
    {
     "data": {
      "text/html": [
       "<div>\n",
       "<style scoped>\n",
       "    .dataframe tbody tr th:only-of-type {\n",
       "        vertical-align: middle;\n",
       "    }\n",
       "\n",
       "    .dataframe tbody tr th {\n",
       "        vertical-align: top;\n",
       "    }\n",
       "\n",
       "    .dataframe thead th {\n",
       "        text-align: right;\n",
       "    }\n",
       "</style>\n",
       "<table border=\"1\" class=\"dataframe\">\n",
       "  <thead>\n",
       "    <tr style=\"text-align: right;\">\n",
       "      <th></th>\n",
       "      <th>Interpolate</th>\n",
       "      <th>Noise ratio</th>\n",
       "      <th>MSE</th>\n",
       "      <th>SNR</th>\n",
       "      <th>PCC</th>\n",
       "      <th>Mask</th>\n",
       "    </tr>\n",
       "  </thead>\n",
       "  <tbody>\n",
       "    <tr>\n",
       "      <th>0</th>\n",
       "      <td>Multiquadric</td>\n",
       "      <td>Noiseless</td>\n",
       "      <td>0.33646</td>\n",
       "      <td>4.739</td>\n",
       "      <td>0.815</td>\n",
       "      <td>N</td>\n",
       "    </tr>\n",
       "    <tr>\n",
       "      <th>1</th>\n",
       "      <td>Multiquadric</td>\n",
       "      <td>10</td>\n",
       "      <td>0.36495</td>\n",
       "      <td>4.385</td>\n",
       "      <td>0.797</td>\n",
       "      <td>N</td>\n",
       "    </tr>\n",
       "    <tr>\n",
       "      <th>2</th>\n",
       "      <td>Multiquadric</td>\n",
       "      <td>1</td>\n",
       "      <td>0.40767</td>\n",
       "      <td>3.902</td>\n",
       "      <td>0.770</td>\n",
       "      <td>N</td>\n",
       "    </tr>\n",
       "    <tr>\n",
       "      <th>3</th>\n",
       "      <td>Multiquadric</td>\n",
       "      <td>0.1</td>\n",
       "      <td>0.41450</td>\n",
       "      <td>3.830</td>\n",
       "      <td>0.765</td>\n",
       "      <td>N</td>\n",
       "    </tr>\n",
       "    <tr>\n",
       "      <th>4</th>\n",
       "      <td>Multiquadric</td>\n",
       "      <td>Noiseless</td>\n",
       "      <td>0.33323</td>\n",
       "      <td>4.781</td>\n",
       "      <td>0.817</td>\n",
       "      <td>Y</td>\n",
       "    </tr>\n",
       "  </tbody>\n",
       "</table>\n",
       "</div>"
      ],
      "text/plain": [
       "    Interpolate Noise ratio      MSE    SNR    PCC Mask\n",
       "0  Multiquadric   Noiseless  0.33646  4.739  0.815    N\n",
       "1  Multiquadric          10  0.36495  4.385  0.797    N\n",
       "2  Multiquadric           1  0.40767  3.902  0.770    N\n",
       "3  Multiquadric         0.1  0.41450  3.830  0.765    N\n",
       "4  Multiquadric   Noiseless  0.33323  4.781  0.817    Y"
      ]
     },
     "execution_count": 5,
     "metadata": {},
     "output_type": "execute_result"
    }
   ],
   "source": [
    "log_df = pd.read_csv(\"runs/deepcnn/log.csv\")\n",
    "log_df"
   ]
  },
  {
   "cell_type": "code",
   "execution_count": 10,
   "id": "d790dcba",
   "metadata": {},
   "outputs": [
    {
     "data": {
      "image/png": "[encoded data removed]",
      "text/plain": [
       "<Figure size 720x432 with 1 Axes>"
      ]
     },
     "metadata": {
      "needs_background": "light"
     },
     "output_type": "display_data"
    }
   ],
   "source": [
    "bar_width = 0.2\n",
    "padding = 0.04\n",
    "\n",
    "r1 = np.arange(len(log_df[:-1]))\n",
    "r2 = [x + bar_width + padding for x in r1]\n",
    "r3 = [x + bar_width + padding for x in r2]\n",
    "\n",
    "fig, ax = plt.subplots(figsize=(10, 6))\n",
    "bars1 = ax.bar(r1, log_df[\"MSE\"][:-1], color = 'navy', width = bar_width, edgecolor = 'grey', label = 'MSE')\n",
    "bars2 = ax.bar(r2, log_df[\"SNR\"][:-1], color = 'lightseagreen', width = bar_width, edgecolor = 'grey', label = 'SNR')\n",
    "bars3 = ax.bar(r3, log_df[\"PCC\"][:-1], color = 'gold', width = bar_width, edgecolor = 'grey', label = 'PCC')\n",
    "ax.set_title(\"Multiquadric Interpolation\", fontsize = 16)\n",
    "ax.set_xlabel('Noise Ratio (SNR)', fontsize = 14)\n",
    "ax.set_xticks([r + (bar_width + padding) for r in range(len(log_df[:-1]))])\n",
    "ax.set_xticklabels(log_df[\"Noise ratio\"][:-1], fontsize = 14)\n",
    "ax.set_ylabel('Values', fontsize = 14)\n",
    "\n",
    "ax.legend()\n",
    "plt.tight_layout()\n",
    "plt.show()"
   ]
  },
  {
   "cell_type": "code",
   "execution_count": 15,
   "id": "5487d045",
   "metadata": {},
   "outputs": [
    {
     "data": {
      "text/plain": [
       "Interpolate    Multiquadric\n",
       "Noise ratio       Noiseless\n",
       "MSE                 0.33646\n",
       "SNR                   4.739\n",
       "PCC                   0.815\n",
       "Mask                      N\n",
       "Name: 0, dtype: object"
      ]
     },
     "execution_count": 15,
     "metadata": {},
     "output_type": "execute_result"
    }
   ],
   "source": [
    "log_df.iloc[0]"
   ]
  },
  {
   "cell_type": "code",
   "execution_count": 18,
   "id": "b7c02ea6",
   "metadata": {},
   "outputs": [
    {
     "data": {
      "text/plain": [
       "MSE    3.3646\n",
       "SNR     47.39\n",
       "PCC      8.15\n",
       "Name: 0, dtype: object"
      ]
     },
     "execution_count": 18,
     "metadata": {},
     "output_type": "execute_result"
    }
   ],
   "source": [
    "log_df.iloc[0][2:5] * 10"
   ]
  },
  {
   "cell_type": "code",
   "execution_count": 22,
   "id": "46f37f84",
   "metadata": {},
   "outputs": [
    {
     "data": {
      "image/png": "[encoded data removed]",
      "text/plain": [
       "<Figure size 720x432 with 1 Axes>"
      ]
     },
     "metadata": {
      "needs_background": "light"
     },
     "output_type": "display_data"
    }
   ],
   "source": [
    "bar_width = 0.2\n",
    "padding = 0.04\n",
    "\n",
    "r1 = np.arange(3)\n",
    "r2 = [x + bar_width + padding for x in r1]\n",
    "r3 = [x + bar_width + padding for x in r2]\n",
    "\n",
    "fig, ax = plt.subplots(figsize=(10, 6))\n",
    "bars1 = ax.bar(r1, log_df.iloc[0][2:5], color = 'navy', width = bar_width, edgecolor = 'grey', label = 'Org')\n",
    "bars2 = ax.bar(r2, log_df.iloc[-1][2:5], color = 'gold', width = bar_width, edgecolor = 'grey', label = 'Mask')\n",
    "ax.set_title(\"Multiquadric Interpolation\", fontsize = 16)\n",
    "ax.set_xlabel('Mask apply', fontsize = 14)\n",
    "ax.set_xticks([r + (bar_width + padding) for r in range(3)])\n",
    "ax.set_xticklabels([\"MSE\", \"SNR\", \"PCC\"], fontsize = 14)\n",
    "ax.set_ylabel('Values', fontsize = 14)\n",
    "\n",
    "ax.legend()\n",
    "plt.tight_layout()\n",
    "plt.show()"
   ]
  }
 ],
 "metadata": {
  "kernelspec": {
   "display_name": "Python 3 (ipykernel)",
   "language": "python",
   "name": "python3"
  },
  "language_info": {
   "codemirror_mode": {
    "name": "ipython",
    "version": 3
   },
   "file_extension": ".py",
   "mimetype": "text/x-python",
   "name": "python",
   "nbconvert_exporter": "python",
   "pygments_lexer": "ipython3",
   "version": "3.8.10"
  }
 },
 "nbformat": 4,
 "nbformat_minor": 5
}
