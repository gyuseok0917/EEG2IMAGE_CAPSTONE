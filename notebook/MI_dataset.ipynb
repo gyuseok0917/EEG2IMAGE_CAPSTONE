{
 "cells": [
  {
   "cell_type": "code",
   "execution_count": 80,
   "id": "f5446976",
   "metadata": {},
   "outputs": [],
   "source": [
    "import os\n",
    "workspace = \"/workspace\"\n",
    "os.chdir(workspace)\n",
    "\n",
    "import pickle\n",
    "import mne\n",
    "import numpy as np\n",
    "import pandas as pd\n",
    "import matplotlib.pyplot as plt\n",
    "\n",
    "from tqdm import tqdm\n",
    "from glob import glob\n",
    "\n",
    "from mne.time_frequency import tfr_array_morlet\n",
    "from src import read_config, plot_single_channel, plot_topomap, show_morlet\n",
    "from src.train import NMSELoss"
   ]
  },
  {
   "cell_type": "code",
   "execution_count": 81,
   "id": "dcd43f58",
   "metadata": {},
   "outputs": [],
   "source": [
    "import torch\n",
    "\n",
    "pred = torch.rand(128, 1, 64, 1600)\n",
    "target = torch.ones(128, 1, 64, 1600)\n",
    "\n",
    "l = NMSELoss()\n",
    "loss = l(pred, target)"
   ]
  },
  {
   "cell_type": "code",
   "execution_count": 82,
   "id": "bac05e7e",
   "metadata": {},
   "outputs": [
    {
     "data": {
      "text/plain": [
       "tensor(0.3331)"
      ]
     },
     "execution_count": 82,
     "metadata": {},
     "output_type": "execute_result"
    }
   ],
   "source": [
    "loss"
   ]
  },
  {
   "cell_type": "code",
   "execution_count": 3,
   "id": "1c3a6a03",
   "metadata": {},
   "outputs": [
    {
     "data": {
      "text/plain": [
       "0"
      ]
     },
     "execution_count": 3,
     "metadata": {},
     "output_type": "execute_result"
    }
   ],
   "source": [
    "folder_list = sorted(glob(\"data/eegmmidb/*\"))[5:-7]\n",
    "len(folder_list)"
   ]
  },
  {
   "cell_type": "code",
   "execution_count": 4,
   "id": "4cf0e12f",
   "metadata": {},
   "outputs": [
    {
     "name": "stdout",
     "output_type": "stream",
     "text": [
      "['FC5', 'FC3', 'FC1', 'FCz', 'FC2', 'FC4', 'FC6', 'C5', 'C3', 'C1', 'Cz', 'C2', 'C4', 'C6', 'CP5', 'CP3', 'CP1', 'CPz', 'CP2', 'CP4', 'CP6', 'Fp1', 'Fpz', 'Fp2', 'AF7', 'AF3', 'AFz', 'AF4', 'AF8', 'F7', 'F5', 'F3', 'F1', 'Fz', 'F2', 'F4', 'F6', 'F8', 'FT7', 'FT8', 'T7', 'T8', 'T9', 'T10', 'TP7', 'TP8', 'P7', 'P5', 'P3', 'P1', 'Pz', 'P2', 'P4', 'P6', 'P8', 'PO7', 'PO3', 'POz', 'PO4', 'PO8', 'O1', 'Oz', 'O2', 'Iz']\n"
     ]
    }
   ],
   "source": [
    "ch_list = list(pd.read_csv(\"data/eegmmidb/ch_list.csv\")[\"ch_names\"])\n",
    "print(ch_list)"
   ]
  },
  {
   "cell_type": "code",
   "execution_count": 5,
   "id": "47a455ba",
   "metadata": {},
   "outputs": [],
   "source": [
    "montage = read_config(\"data/Montage/64_ch_system.pkl\")\n",
    "new_ch_list = montage.ch_names"
   ]
  },
  {
   "cell_type": "code",
   "execution_count": 6,
   "id": "30d67a25",
   "metadata": {},
   "outputs": [
    {
     "data": {
      "text/plain": [
       "['Fp1',\n",
       " 'Fpz',\n",
       " 'Fp2',\n",
       " 'AF7',\n",
       " 'AF3',\n",
       " 'AFz',\n",
       " 'AF4',\n",
       " 'AF8',\n",
       " 'F7',\n",
       " 'F5',\n",
       " 'F3',\n",
       " 'F1',\n",
       " 'Fz',\n",
       " 'F2',\n",
       " 'F4',\n",
       " 'F6',\n",
       " 'F8',\n",
       " 'FT7',\n",
       " 'FC5',\n",
       " 'FC3',\n",
       " 'FC1',\n",
       " 'FCz',\n",
       " 'FC2',\n",
       " 'FC4',\n",
       " 'FC6',\n",
       " 'FT8',\n",
       " 'T9',\n",
       " 'T7',\n",
       " 'C5',\n",
       " 'C3',\n",
       " 'C1',\n",
       " 'Cz',\n",
       " 'C2',\n",
       " 'C4',\n",
       " 'C6',\n",
       " 'T8',\n",
       " 'T10',\n",
       " 'TP7',\n",
       " 'CP5',\n",
       " 'CP3',\n",
       " 'CP1',\n",
       " 'CPz',\n",
       " 'CP2',\n",
       " 'CP4',\n",
       " 'CP6',\n",
       " 'TP8',\n",
       " 'P7',\n",
       " 'P5',\n",
       " 'P3',\n",
       " 'P1',\n",
       " 'Pz',\n",
       " 'P2',\n",
       " 'P4',\n",
       " 'P6',\n",
       " 'P8',\n",
       " 'PO7',\n",
       " 'PO3',\n",
       " 'POz',\n",
       " 'PO4',\n",
       " 'PO8',\n",
       " 'O1',\n",
       " 'Oz',\n",
       " 'O2',\n",
       " 'Iz']"
      ]
     },
     "execution_count": 6,
     "metadata": {},
     "output_type": "execute_result"
    }
   ],
   "source": [
    "new_ch_list"
   ]
  },
  {
   "cell_type": "code",
   "execution_count": 6,
   "id": "d94b31e6",
   "metadata": {},
   "outputs": [],
   "source": [
    "config = {}\n",
    "\n",
    "for i, ch in enumerate(new_ch_list):\n",
    "    if ch in ['Fp1', \"Fp2\", \"Fz\", 'T7', \"T8\", \"Pz\", \"O1\", \"O2\"]:\n",
    "        config[i] = ch"
   ]
  },
  {
   "cell_type": "code",
   "execution_count": 10,
   "id": "07467bc1",
   "metadata": {},
   "outputs": [],
   "source": [
    "import json\n",
    "\n",
    "with open(\"data/eegmmidb/ch_order.json\", \"w\") as F:\n",
    "    json.dump(config, F, indent = 4)"
   ]
  },
  {
   "cell_type": "code",
   "execution_count": 11,
   "id": "ad103cc3",
   "metadata": {
    "collapsed": true,
    "jupyter": {
     "outputs_hidden": true
    }
   },
   "outputs": [
    {
     "name": "stdout",
     "output_type": "stream",
     "text": [
      "data/eegmmidb/S001 process...\n",
      "(156, 64, 1600)\n",
      "data/eegmmidb/S002 process...\n",
      "(156, 64, 1600)\n",
      "data/eegmmidb/S003 process...\n",
      "(156, 64, 1600)\n",
      "data/eegmmidb/S004 process...\n",
      "(156, 64, 1600)\n",
      "data/eegmmidb/S005 process...\n",
      "(156, 64, 1600)\n",
      "data/eegmmidb/S006 process...\n",
      "(156, 64, 1600)\n",
      "data/eegmmidb/S007 process...\n",
      "(156, 64, 1600)\n",
      "data/eegmmidb/S008 process...\n",
      "(156, 64, 1600)\n",
      "data/eegmmidb/S009 process...\n",
      "(156, 64, 1600)\n",
      "data/eegmmidb/S010 process...\n",
      "(156, 64, 1600)\n",
      "data/eegmmidb/S011 process...\n",
      "(156, 64, 1600)\n",
      "data/eegmmidb/S012 process...\n",
      "(156, 64, 1600)\n",
      "data/eegmmidb/S013 process...\n",
      "(156, 64, 1600)\n",
      "data/eegmmidb/S014 process...\n",
      "(156, 64, 1600)\n",
      "data/eegmmidb/S015 process...\n",
      "(156, 64, 1600)\n",
      "data/eegmmidb/S016 process...\n",
      "(156, 64, 1600)\n",
      "data/eegmmidb/S017 process...\n",
      "(156, 64, 1600)\n",
      "data/eegmmidb/S018 process...\n",
      "(156, 64, 1600)\n",
      "data/eegmmidb/S019 process...\n",
      "(156, 64, 1600)\n",
      "data/eegmmidb/S020 process...\n",
      "(156, 64, 1600)\n",
      "data/eegmmidb/S021 process...\n",
      "(156, 64, 1600)\n",
      "data/eegmmidb/S022 process...\n",
      "(156, 64, 1600)\n",
      "data/eegmmidb/S023 process...\n",
      "(156, 64, 1600)\n",
      "data/eegmmidb/S024 process...\n",
      "(156, 64, 1600)\n",
      "data/eegmmidb/S025 process...\n",
      "(156, 64, 1600)\n",
      "data/eegmmidb/S026 process...\n",
      "(156, 64, 1600)\n",
      "data/eegmmidb/S027 process...\n",
      "(156, 64, 1600)\n",
      "data/eegmmidb/S028 process...\n",
      "(156, 64, 1600)\n",
      "data/eegmmidb/S029 process...\n",
      "(156, 64, 1600)\n",
      "data/eegmmidb/S030 process...\n",
      "(156, 64, 1600)\n",
      "data/eegmmidb/S031 process...\n",
      "(156, 64, 1600)\n",
      "data/eegmmidb/S032 process...\n",
      "(156, 64, 1600)\n",
      "data/eegmmidb/S033 process...\n",
      "(156, 64, 1600)\n",
      "data/eegmmidb/S034 process...\n",
      "(156, 64, 1600)\n",
      "data/eegmmidb/S035 process...\n",
      "(156, 64, 1600)\n",
      "data/eegmmidb/S036 process...\n",
      "(156, 64, 1600)\n",
      "data/eegmmidb/S037 process...\n",
      "(156, 64, 1600)\n",
      "data/eegmmidb/S038 process...\n",
      "(156, 64, 1600)\n",
      "data/eegmmidb/S039 process...\n",
      "(156, 64, 1600)\n",
      "data/eegmmidb/S040 process...\n",
      "(156, 64, 1600)\n",
      "data/eegmmidb/S041 process...\n",
      "(156, 64, 1600)\n",
      "data/eegmmidb/S042 process...\n",
      "(156, 64, 1600)\n",
      "data/eegmmidb/S043 process...\n",
      "(156, 64, 1600)\n",
      "data/eegmmidb/S044 process...\n",
      "(156, 64, 1600)\n",
      "data/eegmmidb/S045 process...\n",
      "(156, 64, 1600)\n",
      "data/eegmmidb/S046 process...\n",
      "(156, 64, 1600)\n",
      "data/eegmmidb/S047 process...\n",
      "(156, 64, 1600)\n",
      "data/eegmmidb/S048 process...\n",
      "(156, 64, 1600)\n",
      "data/eegmmidb/S049 process...\n",
      "(156, 64, 1600)\n",
      "data/eegmmidb/S050 process...\n",
      "(156, 64, 1600)\n",
      "data/eegmmidb/S051 process...\n",
      "(156, 64, 1600)\n",
      "data/eegmmidb/S052 process...\n",
      "(156, 64, 1600)\n",
      "data/eegmmidb/S053 process...\n",
      "(156, 64, 1600)\n",
      "data/eegmmidb/S054 process...\n",
      "(156, 64, 1600)\n",
      "data/eegmmidb/S055 process...\n",
      "(156, 64, 1600)\n",
      "data/eegmmidb/S056 process...\n",
      "(156, 64, 1600)\n",
      "data/eegmmidb/S057 process...\n",
      "(156, 64, 1600)\n",
      "data/eegmmidb/S058 process...\n",
      "(156, 64, 1600)\n",
      "data/eegmmidb/S059 process...\n",
      "(156, 64, 1600)\n",
      "data/eegmmidb/S060 process...\n",
      "(156, 64, 1600)\n",
      "data/eegmmidb/S061 process...\n",
      "(156, 64, 1600)\n",
      "data/eegmmidb/S062 process...\n",
      "(156, 64, 1600)\n",
      "data/eegmmidb/S063 process...\n",
      "(156, 64, 1600)\n",
      "data/eegmmidb/S064 process...\n",
      "(156, 64, 1600)\n",
      "data/eegmmidb/S065 process...\n",
      "(156, 64, 1600)\n",
      "data/eegmmidb/S066 process...\n",
      "(156, 64, 1600)\n",
      "data/eegmmidb/S067 process...\n",
      "(156, 64, 1600)\n",
      "data/eegmmidb/S068 process...\n",
      "(156, 64, 1600)\n",
      "data/eegmmidb/S069 process...\n",
      "(156, 64, 1600)\n",
      "data/eegmmidb/S070 process...\n",
      "(156, 64, 1600)\n",
      "data/eegmmidb/S071 process...\n",
      "(156, 64, 1600)\n",
      "data/eegmmidb/S072 process...\n",
      "(156, 64, 1600)\n",
      "data/eegmmidb/S073 process...\n",
      "(156, 64, 1600)\n",
      "data/eegmmidb/S074 process...\n",
      "(156, 64, 1600)\n",
      "data/eegmmidb/S075 process...\n",
      "(156, 64, 1600)\n",
      "data/eegmmidb/S076 process...\n",
      "(156, 64, 1600)\n",
      "data/eegmmidb/S077 process...\n",
      "(156, 64, 1600)\n",
      "data/eegmmidb/S078 process...\n",
      "(156, 64, 1600)\n",
      "data/eegmmidb/S079 process...\n",
      "(156, 64, 1600)\n",
      "data/eegmmidb/S080 process...\n",
      "(156, 64, 1600)\n",
      "data/eegmmidb/S081 process...\n",
      "(156, 64, 1600)\n",
      "data/eegmmidb/S082 process...\n",
      "(156, 64, 1600)\n",
      "data/eegmmidb/S083 process...\n",
      "(156, 64, 1600)\n",
      "data/eegmmidb/S084 process...\n",
      "(156, 64, 1600)\n",
      "data/eegmmidb/S085 process...\n",
      "(156, 64, 1600)\n",
      "data/eegmmidb/S086 process...\n",
      "(156, 64, 1600)\n",
      "data/eegmmidb/S087 process...\n",
      "(156, 64, 1600)\n",
      "data/eegmmidb/S088 process...\n",
      "(12, 64, 1600)\n",
      "data/eegmmidb/S089 process...\n",
      "(162, 64, 1600)\n",
      "data/eegmmidb/S090 process...\n",
      "(156, 64, 1600)\n",
      "data/eegmmidb/S091 process...\n",
      "(156, 64, 1600)\n",
      "data/eegmmidb/S092 process...\n",
      "(12, 64, 1600)\n",
      "data/eegmmidb/S093 process...\n",
      "(156, 64, 1600)\n",
      "data/eegmmidb/S094 process...\n",
      "(156, 64, 1600)\n",
      "data/eegmmidb/S095 process...\n",
      "(156, 64, 1600)\n",
      "data/eegmmidb/S096 process...\n",
      "(156, 64, 1600)\n",
      "data/eegmmidb/S097 process...\n",
      "(156, 64, 1600)\n",
      "data/eegmmidb/S098 process...\n",
      "(156, 64, 1600)\n",
      "data/eegmmidb/S099 process...\n",
      "(156, 64, 1600)\n",
      "data/eegmmidb/S100 process...\n"
     ]
    },
    {
     "name": "stderr",
     "output_type": "stream",
     "text": [
      "/tmp/ipykernel_2658/4152408956.py:16: RuntimeWarning: Limited 1 annotation(s) that were expanding outside the data range.\n",
      "  raw = mne.io.read_raw_edf(path, preload = True, verbose = False).pick_types(eeg = True, verbose = False)\n",
      "/tmp/ipykernel_2658/4152408956.py:16: RuntimeWarning: Limited 1 annotation(s) that were expanding outside the data range.\n",
      "  raw = mne.io.read_raw_edf(path, preload = True, verbose = False).pick_types(eeg = True, verbose = False)\n",
      "/tmp/ipykernel_2658/4152408956.py:16: RuntimeWarning: Limited 1 annotation(s) that were expanding outside the data range.\n",
      "  raw = mne.io.read_raw_edf(path, preload = True, verbose = False).pick_types(eeg = True, verbose = False)\n",
      "/tmp/ipykernel_2658/4152408956.py:16: RuntimeWarning: Limited 1 annotation(s) that were expanding outside the data range.\n",
      "  raw = mne.io.read_raw_edf(path, preload = True, verbose = False).pick_types(eeg = True, verbose = False)\n",
      "/tmp/ipykernel_2658/4152408956.py:16: RuntimeWarning: Limited 1 annotation(s) that were expanding outside the data range.\n",
      "  raw = mne.io.read_raw_edf(path, preload = True, verbose = False).pick_types(eeg = True, verbose = False)\n",
      "/tmp/ipykernel_2658/4152408956.py:16: RuntimeWarning: Limited 1 annotation(s) that were expanding outside the data range.\n",
      "  raw = mne.io.read_raw_edf(path, preload = True, verbose = False).pick_types(eeg = True, verbose = False)\n",
      "/tmp/ipykernel_2658/4152408956.py:16: RuntimeWarning: Limited 1 annotation(s) that were expanding outside the data range.\n",
      "  raw = mne.io.read_raw_edf(path, preload = True, verbose = False).pick_types(eeg = True, verbose = False)\n",
      "/tmp/ipykernel_2658/4152408956.py:16: RuntimeWarning: Limited 1 annotation(s) that were expanding outside the data range.\n",
      "  raw = mne.io.read_raw_edf(path, preload = True, verbose = False).pick_types(eeg = True, verbose = False)\n",
      "/tmp/ipykernel_2658/4152408956.py:16: RuntimeWarning: Limited 1 annotation(s) that were expanding outside the data range.\n",
      "  raw = mne.io.read_raw_edf(path, preload = True, verbose = False).pick_types(eeg = True, verbose = False)\n",
      "/tmp/ipykernel_2658/4152408956.py:16: RuntimeWarning: Limited 1 annotation(s) that were expanding outside the data range.\n",
      "  raw = mne.io.read_raw_edf(path, preload = True, verbose = False).pick_types(eeg = True, verbose = False)\n",
      "/tmp/ipykernel_2658/4152408956.py:16: RuntimeWarning: Limited 1 annotation(s) that were expanding outside the data range.\n",
      "  raw = mne.io.read_raw_edf(path, preload = True, verbose = False).pick_types(eeg = True, verbose = False)\n",
      "/tmp/ipykernel_2658/4152408956.py:16: RuntimeWarning: Limited 1 annotation(s) that were expanding outside the data range.\n",
      "  raw = mne.io.read_raw_edf(path, preload = True, verbose = False).pick_types(eeg = True, verbose = False)\n"
     ]
    },
    {
     "name": "stdout",
     "output_type": "stream",
     "text": [
      "(12, 64, 1600)\n",
      "data/eegmmidb/S101 process...\n",
      "(156, 64, 1600)\n",
      "data/eegmmidb/S102 process...\n",
      "(156, 64, 1600)\n",
      "data/eegmmidb/S103 process...\n",
      "(156, 64, 1600)\n",
      "data/eegmmidb/S104 process...\n",
      "(154, 64, 1600)\n",
      "data/eegmmidb/S105 process...\n",
      "(156, 64, 1600)\n",
      "data/eegmmidb/S106 process...\n",
      "(147, 64, 1600)\n",
      "data/eegmmidb/S107 process...\n",
      "(156, 64, 1600)\n",
      "data/eegmmidb/S108 process...\n",
      "(156, 64, 1600)\n",
      "data/eegmmidb/S109 process...\n",
      "(156, 64, 1600)\n"
     ]
    }
   ],
   "source": [
    "dir_list = []\n",
    "for i in range(1, 110):   \n",
    "    if i < 10:\n",
    "        dir_num = f\"00{i}\"\n",
    "    elif i < 100:\n",
    "        dir_num = f\"0{i}\"\n",
    "    else:\n",
    "        dir_num = f\"{i}\"\n",
    "        \n",
    "    dir_path = [folder for folder in folder_list if dir_num in folder][0]\n",
    "    file_list = sorted(glob(os.path.join(dir_path, \"*.edf\")))\n",
    "    \n",
    "    full_list = []\n",
    "    print(f\"{dir_path} process...\")\n",
    "    for path in file_list:\n",
    "        raw = mne.io.read_raw_edf(path, preload = True, verbose = False).pick_types(eeg = True, verbose = False)\n",
    "        \n",
    "        if raw.info[\"sfreq\"] != 160:\n",
    "            continue\n",
    "        \n",
    "        sample = raw.get_data()\n",
    "        info = mne.create_info(ch_list, raw.info[\"sfreq\"], \"eeg\")\n",
    "        raw_eeg = mne.io.RawArray(sample, info, verbose = False)\n",
    "        \n",
    "        original_channels = raw_eeg.ch_names\n",
    "        new_order = original_channels.copy()\n",
    "        new_order = new_ch_list\n",
    "        \n",
    "        new_raw = raw_eeg.copy().reorder_channels(new_order)\n",
    "        raw_array = new_raw.get_data()\n",
    "        \n",
    "        segment_time = int(new_raw.info[\"sfreq\"] * 10)\n",
    "        \n",
    "        cnt = 0\n",
    "        accumulate_time = segment_time\n",
    "        \n",
    "        segment_list = []\n",
    "        while accumulate_time <= raw_array.shape[-1]:\n",
    "            segment = raw_array[:, int(cnt * segment_time):int((cnt+1) * segment_time)]\n",
    "            segment_list.append(segment[np.newaxis])\n",
    "            cnt += 1\n",
    "            accumulate_time += segment_time\n",
    "            \n",
    "        segment_concat = np.concatenate(segment_list, axis = 0)\n",
    "        full_list.append(segment_concat)\n",
    "    data_concat = np.concatenate(full_list, axis = 0)\n",
    "    print(data_concat.shape)\n",
    "        \n",
    "    dir_list.append(data_concat)"
   ]
  },
  {
   "cell_type": "code",
   "execution_count": 12,
   "id": "5608f34d",
   "metadata": {},
   "outputs": [
    {
     "data": {
      "text/plain": [
       "(16567, 64, 1600)"
      ]
     },
     "execution_count": 12,
     "metadata": {},
     "output_type": "execute_result"
    }
   ],
   "source": [
    "save_data = np.concatenate(dir_list, axis = 0)\n",
    "save_data.shape"
   ]
  },
  {
   "cell_type": "code",
   "execution_count": 23,
   "id": "2d8b7aba",
   "metadata": {},
   "outputs": [
    {
     "data": {
      "text/plain": [
       "3313.4"
      ]
     },
     "execution_count": 23,
     "metadata": {},
     "output_type": "execute_result"
    }
   ],
   "source": [
    "save_data.shape[0] * 0.2"
   ]
  },
  {
   "cell_type": "code",
   "execution_count": 24,
   "id": "5da95817",
   "metadata": {},
   "outputs": [
    {
     "data": {
      "text/plain": [
       "16567"
      ]
     },
     "execution_count": 24,
     "metadata": {},
     "output_type": "execute_result"
    }
   ],
   "source": [
    "13254 + 3313"
   ]
  },
  {
   "cell_type": "code",
   "execution_count": 25,
   "id": "fead6f65",
   "metadata": {},
   "outputs": [],
   "source": [
    "np.save(\"data/eegmmidb/eeg_0_80.npy\", save_data)"
   ]
  },
  {
   "cell_type": "code",
   "execution_count": 2,
   "id": "231fe804",
   "metadata": {},
   "outputs": [
    {
     "data": {
      "text/plain": [
       "(16567, 64, 1600)"
      ]
     },
     "execution_count": 2,
     "metadata": {},
     "output_type": "execute_result"
    }
   ],
   "source": [
    "np.load(\"data/eegmmidb/eeg_0_80.npy\").shape"
   ]
  }
 ],
 "metadata": {
  "kernelspec": {
   "display_name": "Python 3 (ipykernel)",
   "language": "python",
   "name": "python3"
  },
  "language_info": {
   "codemirror_mode": {
    "name": "ipython",
    "version": 3
   },
   "file_extension": ".py",
   "mimetype": "text/x-python",
   "name": "python",
   "nbconvert_exporter": "python",
   "pygments_lexer": "ipython3",
   "version": "3.8.10"
  }
 },
 "nbformat": 4,
 "nbformat_minor": 5
}
