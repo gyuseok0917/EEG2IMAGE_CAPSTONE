{
 "cells": [
  {
   "cell_type": "code",
   "execution_count": 1,
   "id": "1ec88590",
   "metadata": {},
   "outputs": [],
   "source": [
    "import torch\n",
    "import torch.nn as nn"
   ]
  },
  {
   "cell_type": "code",
   "execution_count": 92,
   "id": "bb7b8367",
   "metadata": {},
   "outputs": [],
   "source": [
    "sample = torch.randn(1, 1, 8, 1600)"
   ]
  },
  {
   "cell_type": "code",
   "execution_count": 120,
   "id": "5af743e4",
   "metadata": {},
   "outputs": [],
   "source": [
    "conv1 = nn.Conv2d(1, 128, 1, 1)\n",
    "conv2 = nn.Conv2d(128, 128, 1, 1)\n",
    "upsample = nn.Upsample(scale_factor = (8, 1), mode = \"bicubic\")\n",
    "conv3 = nn.Conv2d(128, 128, (1, 1), 1)\n",
    "conv4 = nn.Conv2d(128, 128, (1, 1), 1)"
   ]
  },
  {
   "cell_type": "code",
   "execution_count": 121,
   "id": "ca4f2851",
   "metadata": {},
   "outputs": [
    {
     "name": "stdout",
     "output_type": "stream",
     "text": [
      "torch.Size([1, 128, 8, 1600])\n",
      "torch.Size([1, 128, 8, 1600])\n",
      "torch.Size([1, 128, 64, 1600])\n",
      "torch.Size([1, 128, 64, 1600])\n",
      "torch.Size([1, 128, 64, 1600])\n"
     ]
    }
   ],
   "source": [
    "out = conv1(sample)\n",
    "print(out.shape)\n",
    "\n",
    "out = conv2(out)\n",
    "print(out.shape)\n",
    "\n",
    "out = upsample(out)\n",
    "print(out.shape)\n",
    "\n",
    "out = conv3(out)\n",
    "print(out.shape)\n",
    "\n",
    "out = conv4(out)\n",
    "print(out.shape)"
   ]
  },
  {
   "cell_type": "code",
   "execution_count": null,
   "id": "fd4d1a95",
   "metadata": {},
   "outputs": [],
   "source": []
  }
 ],
 "metadata": {
  "kernelspec": {
   "display_name": "Python 3 (ipykernel)",
   "language": "python",
   "name": "python3"
  },
  "language_info": {
   "codemirror_mode": {
    "name": "ipython",
    "version": 3
   },
   "file_extension": ".py",
   "mimetype": "text/x-python",
   "name": "python",
   "nbconvert_exporter": "python",
   "pygments_lexer": "ipython3",
   "version": "3.8.10"
  }
 },
 "nbformat": 4,
 "nbformat_minor": 5
}
