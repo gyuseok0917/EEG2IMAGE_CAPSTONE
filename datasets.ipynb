{
 "cells": [
  {
   "cell_type": "code",
   "execution_count": 3,
   "id": "2dc6b37e",
   "metadata": {},
   "outputs": [],
   "source": [
    "import torch\n",
    "from torch import nn"
   ]
  },
  {
   "cell_type": "code",
   "execution_count": 2,
   "id": "d8fc0e29",
   "metadata": {},
   "outputs": [],
   "source": [
    "model = torch.load(\"datasets/split/block_splits_by_image_all.pth\")"
   ]
  },
  {
   "cell_type": "code",
   "execution_count": 3,
   "id": "a04e9afc",
   "metadata": {},
   "outputs": [
    {
     "data": {
      "text/plain": [
       "dict_keys(['splits'])"
      ]
     },
     "execution_count": 3,
     "metadata": {},
     "output_type": "execute_result"
    }
   ],
   "source": [
    "model.keys()"
   ]
  },
  {
   "cell_type": "code",
   "execution_count": 4,
   "id": "6ffff86a",
   "metadata": {},
   "outputs": [
    {
     "data": {
      "text/plain": [
       "list"
      ]
     },
     "execution_count": 4,
     "metadata": {},
     "output_type": "execute_result"
    }
   ],
   "source": [
    "type(model['splits'])"
   ]
  },
  {
   "cell_type": "code",
   "execution_count": 5,
   "id": "b2c69bf0",
   "metadata": {},
   "outputs": [
    {
     "data": {
      "text/plain": [
       "6"
      ]
     },
     "execution_count": 5,
     "metadata": {},
     "output_type": "execute_result"
    }
   ],
   "source": [
    "len(model['splits'])"
   ]
  },
  {
   "cell_type": "code",
   "execution_count": 7,
   "id": "a1e0f81f",
   "metadata": {},
   "outputs": [],
   "source": [
    "model0 = model['splits'][0]"
   ]
  },
  {
   "cell_type": "code",
   "execution_count": 8,
   "id": "2544b72e",
   "metadata": {},
   "outputs": [
    {
     "data": {
      "text/plain": [
       "dict"
      ]
     },
     "execution_count": 8,
     "metadata": {},
     "output_type": "execute_result"
    }
   ],
   "source": [
    "type(model0)"
   ]
  },
  {
   "cell_type": "code",
   "execution_count": 10,
   "id": "db05a6c5",
   "metadata": {},
   "outputs": [],
   "source": [
    "model1 = model['splits'][0]"
   ]
  },
  {
   "cell_type": "code",
   "execution_count": 11,
   "id": "fd743202",
   "metadata": {},
   "outputs": [
    {
     "data": {
      "text/plain": [
       "dict_keys(['train', 'val', 'test'])"
      ]
     },
     "execution_count": 11,
     "metadata": {},
     "output_type": "execute_result"
    }
   ],
   "source": [
    "model1.keys()"
   ]
  },
  {
   "cell_type": "code",
   "execution_count": null,
   "id": "c7928a52",
   "metadata": {},
   "outputs": [],
   "source": []
  },
  {
   "cell_type": "code",
   "execution_count": null,
   "id": "91fe74ce",
   "metadata": {},
   "outputs": [],
   "source": []
  },
  {
   "cell_type": "code",
   "execution_count": null,
   "id": "fc7236bf",
   "metadata": {},
   "outputs": [],
   "source": []
  },
  {
   "cell_type": "markdown",
   "id": "7effffd1",
   "metadata": {},
   "source": [
    "---"
   ]
  },
  {
   "cell_type": "code",
   "execution_count": 14,
   "id": "5b59660e",
   "metadata": {},
   "outputs": [],
   "source": [
    "model_single = torch.load(\"datasets/split/block_splits_by_image_single.pth\")"
   ]
  },
  {
   "cell_type": "code",
   "execution_count": 15,
   "id": "61f38b07",
   "metadata": {},
   "outputs": [
    {
     "data": {
      "text/plain": [
       "1"
      ]
     },
     "execution_count": 15,
     "metadata": {},
     "output_type": "execute_result"
    }
   ],
   "source": [
    "len(model_single['splits'])"
   ]
  },
  {
   "cell_type": "code",
   "execution_count": 17,
   "id": "8d5debab",
   "metadata": {},
   "outputs": [],
   "source": [
    "model_sin_splits = model_single['splits'][0]"
   ]
  },
  {
   "cell_type": "code",
   "execution_count": 18,
   "id": "afdb963c",
   "metadata": {},
   "outputs": [
    {
     "data": {
      "text/plain": [
       "dict_keys(['train', 'val', 'test'])"
      ]
     },
     "execution_count": 18,
     "metadata": {},
     "output_type": "execute_result"
    }
   ],
   "source": [
    "model_sin_splits.keys()"
   ]
  },
  {
   "cell_type": "code",
   "execution_count": 21,
   "id": "e2c88dab",
   "metadata": {},
   "outputs": [
    {
     "data": {
      "text/plain": [
       "669"
      ]
     },
     "execution_count": 21,
     "metadata": {},
     "output_type": "execute_result"
    }
   ],
   "source": [
    "len(model_sin_splits['train'])"
   ]
  },
  {
   "cell_type": "code",
   "execution_count": 22,
   "id": "1e96d007",
   "metadata": {},
   "outputs": [
    {
     "data": {
      "text/plain": [
       "167"
      ]
     },
     "execution_count": 22,
     "metadata": {},
     "output_type": "execute_result"
    }
   ],
   "source": [
    "len(model_sin_splits['val'])"
   ]
  },
  {
   "cell_type": "code",
   "execution_count": 23,
   "id": "dd45a305",
   "metadata": {},
   "outputs": [
    {
     "data": {
      "text/plain": [
       "164"
      ]
     },
     "execution_count": 23,
     "metadata": {},
     "output_type": "execute_result"
    }
   ],
   "source": [
    "len(model_sin_splits['test'])"
   ]
  },
  {
   "cell_type": "code",
   "execution_count": 24,
   "id": "41838268",
   "metadata": {},
   "outputs": [],
   "source": [
    "test = model_sin_splits['test']"
   ]
  },
  {
   "cell_type": "code",
   "execution_count": 27,
   "id": "a34cb577",
   "metadata": {},
   "outputs": [
    {
     "data": {
      "text/plain": [
       "1"
      ]
     },
     "execution_count": 27,
     "metadata": {},
     "output_type": "execute_result"
    }
   ],
   "source": [
    "test[0]"
   ]
  },
  {
   "cell_type": "markdown",
   "id": "7ca6c871",
   "metadata": {},
   "source": [
    "---"
   ]
  },
  {
   "cell_type": "markdown",
   "id": "2a1f4374",
   "metadata": {},
   "source": [
    "# datasets/eeg/"
   ]
  },
  {
   "cell_type": "code",
   "execution_count": 6,
   "id": "ce1f43cd",
   "metadata": {},
   "outputs": [],
   "source": [
    "# eeg1470 = torch.load(\"datasets/eeg/eeg_14_70_std.pth\")\n",
    "eeg0595 = torch.load(\"dreamdiffusion/datasets/eeg_5_95_std.pth\")"
   ]
  },
  {
   "cell_type": "code",
   "execution_count": 9,
   "id": "63f7861a",
   "metadata": {},
   "outputs": [
    {
     "data": {
      "text/plain": [
       "dict_keys(['dataset', 'labels', 'images'])"
      ]
     },
     "execution_count": 9,
     "metadata": {},
     "output_type": "execute_result"
    }
   ],
   "source": [
    "eeg0595.keys()"
   ]
  },
  {
   "cell_type": "code",
   "execution_count": 10,
   "id": "a131bee7",
   "metadata": {},
   "outputs": [],
   "source": [
    "dataset, labels, images = eeg0595['dataset'], eeg0595['labels'], eeg0595['images']"
   ]
  },
  {
   "cell_type": "code",
   "execution_count": 11,
   "id": "4613b08a",
   "metadata": {},
   "outputs": [
    {
     "data": {
      "text/plain": [
       "11965"
      ]
     },
     "execution_count": 11,
     "metadata": {},
     "output_type": "execute_result"
    }
   ],
   "source": [
    "len(dataset)"
   ]
  },
  {
   "cell_type": "code",
   "execution_count": 12,
   "id": "c401385c",
   "metadata": {},
   "outputs": [
    {
     "data": {
      "text/plain": [
       "40"
      ]
     },
     "execution_count": 12,
     "metadata": {},
     "output_type": "execute_result"
    }
   ],
   "source": [
    "len(labels)"
   ]
  },
  {
   "cell_type": "code",
   "execution_count": 13,
   "id": "c4f6e907",
   "metadata": {},
   "outputs": [
    {
     "data": {
      "text/plain": [
       "1996"
      ]
     },
     "execution_count": 13,
     "metadata": {},
     "output_type": "execute_result"
    }
   ],
   "source": [
    "len(images)"
   ]
  },
  {
   "cell_type": "code",
   "execution_count": 31,
   "id": "d838fa62",
   "metadata": {},
   "outputs": [
    {
     "data": {
      "text/plain": [
       "{'eeg': tensor([[-0.0098,  0.0195,  0.0620,  ...,  0.0638,  0.0120, -0.0118],\n",
       "         [-0.0045,  0.1303,  0.2673,  ...,  0.0894,  0.0342, -0.0082],\n",
       "         [ 0.0215, -0.2017, -0.4305,  ..., -0.2022, -0.0940,  0.0188],\n",
       "         ...,\n",
       "         [ 0.0160,  0.0707,  0.1005,  ...,  0.2066,  0.1156,  0.0036],\n",
       "         [-0.0046, -0.0084, -0.0119,  ...,  0.0007, -0.0026, -0.0053],\n",
       "         [ 0.0040,  0.0419,  0.0665,  ...,  0.0765,  0.0309, -0.0063]]),\n",
       " 'image': 0,\n",
       " 'label': 10,\n",
       " 'subject': 4}"
      ]
     },
     "execution_count": 31,
     "metadata": {},
     "output_type": "execute_result"
    }
   ],
   "source": [
    "dataset[0]"
   ]
  },
  {
   "cell_type": "code",
   "execution_count": 32,
   "id": "29ce7649",
   "metadata": {},
   "outputs": [
    {
     "data": {
      "text/plain": [
       "10"
      ]
     },
     "execution_count": 32,
     "metadata": {},
     "output_type": "execute_result"
    }
   ],
   "source": [
    "dataset[0]['label']"
   ]
  },
  {
   "cell_type": "code",
   "execution_count": 9,
   "id": "fc3c1e98",
   "metadata": {},
   "outputs": [
    {
     "name": "stdout",
     "output_type": "stream",
     "text": [
      "16\n",
      "14\n",
      "12\n",
      "10\n"
     ]
    }
   ],
   "source": [
    "import math\n",
    "print(int(2 * math.log2(256)))\n",
    "print(int(2 * math.log2(128)))\n",
    "print(int(2 * math.log2(64)))\n",
    "print(int(2 * math.log2(32)))"
   ]
  },
  {
   "cell_type": "code",
   "execution_count": null,
   "id": "4ceb4538",
   "metadata": {},
   "outputs": [],
   "source": []
  },
  {
   "cell_type": "code",
   "execution_count": null,
   "id": "be781e88",
   "metadata": {},
   "outputs": [],
   "source": []
  },
  {
   "cell_type": "code",
   "execution_count": null,
   "id": "7e2f9b9f",
   "metadata": {},
   "outputs": [],
   "source": []
  },
  {
   "cell_type": "code",
   "execution_count": null,
   "id": "5648cb25",
   "metadata": {},
   "outputs": [],
   "source": []
  },
  {
   "cell_type": "code",
   "execution_count": 15,
   "id": "db611b9b",
   "metadata": {},
   "outputs": [
    {
     "data": {
      "text/plain": [
       "0"
      ]
     },
     "execution_count": 15,
     "metadata": {},
     "output_type": "execute_result"
    }
   ],
   "source": [
    "dataset[0]['image']"
   ]
  },
  {
   "cell_type": "code",
   "execution_count": 16,
   "id": "fc73c7ad",
   "metadata": {},
   "outputs": [
    {
     "data": {
      "text/plain": [
       "'n03452741_16744'"
      ]
     },
     "execution_count": 16,
     "metadata": {},
     "output_type": "execute_result"
    }
   ],
   "source": [
    "images[1]"
   ]
  },
  {
   "cell_type": "code",
   "execution_count": 17,
   "id": "a1f93a96",
   "metadata": {},
   "outputs": [
    {
     "data": {
      "text/plain": [
       "'n03452741'"
      ]
     },
     "execution_count": 17,
     "metadata": {},
     "output_type": "execute_result"
    }
   ],
   "source": [
    "labels[30]"
   ]
  },
  {
   "cell_type": "code",
   "execution_count": 18,
   "id": "f4d45f51",
   "metadata": {},
   "outputs": [
    {
     "data": {
      "text/plain": [
       "['n02951358_31190',\n",
       " 'n03452741_16744',\n",
       " 'n04069434_10318',\n",
       " 'n02951358_34807',\n",
       " 'n03452741_5499',\n",
       " 'n03376595_247',\n",
       " 'n02906734_14010',\n",
       " 'n03452741_2982',\n",
       " 'n02607072_5873',\n",
       " 'n02510455_96034']"
      ]
     },
     "execution_count": 18,
     "metadata": {},
     "output_type": "execute_result"
    }
   ],
   "source": [
    "images[:10]"
   ]
  },
  {
   "cell_type": "code",
   "execution_count": null,
   "id": "99fa63ed",
   "metadata": {},
   "outputs": [],
   "source": []
  },
  {
   "cell_type": "code",
   "execution_count": null,
   "id": "fa1644b4",
   "metadata": {},
   "outputs": [],
   "source": []
  },
  {
   "cell_type": "code",
   "execution_count": null,
   "id": "53fd8eb0",
   "metadata": {},
   "outputs": [],
   "source": []
  },
  {
   "cell_type": "code",
   "execution_count": null,
   "id": "c304379c",
   "metadata": {},
   "outputs": [],
   "source": []
  },
  {
   "cell_type": "code",
   "execution_count": null,
   "id": "4b0d8fa1",
   "metadata": {},
   "outputs": [],
   "source": []
  },
  {
   "cell_type": "code",
   "execution_count": 20,
   "id": "ee337494",
   "metadata": {},
   "outputs": [],
   "source": [
    "# model3['images'][0]"
   ]
  },
  {
   "cell_type": "code",
   "execution_count": 236,
   "id": "71a754aa",
   "metadata": {},
   "outputs": [
    {
     "data": {
      "text/plain": [
       "{'eeg': tensor([[-0.0299, -0.0996, -0.1700,  ..., -0.2839, -0.1543, -0.0182],\n",
       "         [-0.0239, -0.0608, -0.0974,  ..., -0.2596, -0.1397, -0.0193],\n",
       "         [ 0.0169, -0.0083, -0.0199,  ..., -0.1203, -0.0589,  0.0250],\n",
       "         ...,\n",
       "         [ 0.0026,  0.0682,  0.1460,  ..., -0.3128, -0.1583, -0.0072],\n",
       "         [-0.0024, -0.0029, -0.0025,  ..., -0.0274, -0.0152, -0.0029],\n",
       "         [-0.0066, -0.0389, -0.0570,  ..., -0.4324, -0.2266, -0.0158]]),\n",
       " 'image': 1995,\n",
       " 'label': 13,\n",
       " 'subject': 4}"
      ]
     },
     "execution_count": 236,
     "metadata": {},
     "output_type": "execute_result"
    }
   ],
   "source": [
    "model3['dataset'][1995]"
   ]
  },
  {
   "cell_type": "code",
   "execution_count": 231,
   "id": "c88f859c",
   "metadata": {},
   "outputs": [
    {
     "data": {
      "text/plain": [
       "['n02389026',\n",
       " 'n03888257',\n",
       " 'n03584829',\n",
       " 'n02607072',\n",
       " 'n03297495',\n",
       " 'n03063599',\n",
       " 'n03792782',\n",
       " 'n04086273',\n",
       " 'n02510455',\n",
       " 'n11939491',\n",
       " 'n02951358',\n",
       " 'n02281787',\n",
       " 'n02106662',\n",
       " 'n04120489',\n",
       " 'n03590841',\n",
       " 'n02992529',\n",
       " 'n03445777',\n",
       " 'n03180011',\n",
       " 'n02906734',\n",
       " 'n07873807']"
      ]
     },
     "execution_count": 231,
     "metadata": {},
     "output_type": "execute_result"
    }
   ],
   "source": [
    "model3['labels'][:20]"
   ]
  },
  {
   "cell_type": "code",
   "execution_count": 233,
   "id": "4c6a9d47",
   "metadata": {},
   "outputs": [
    {
     "data": {
      "text/plain": [
       "['n02951358_31190',\n",
       " 'n03452741_16744',\n",
       " 'n04069434_10318',\n",
       " 'n02951358_34807',\n",
       " 'n03452741_5499',\n",
       " 'n03376595_247',\n",
       " 'n02906734_14010',\n",
       " 'n03452741_2982',\n",
       " 'n02607072_5873',\n",
       " 'n02510455_96034',\n",
       " 'n02281787_4182',\n",
       " 'n02906734_508',\n",
       " 'n03272010_4472',\n",
       " 'n04044716_691',\n",
       " 'n03272562_1177',\n",
       " 'n03773504_14125',\n",
       " 'n02607072_3895',\n",
       " 'n03272010_6902',\n",
       " 'n03709823_451',\n",
       " 'n02389026_2743']"
      ]
     },
     "execution_count": 233,
     "metadata": {},
     "output_type": "execute_result"
    }
   ],
   "source": [
    "model3['images'][:20]"
   ]
  },
  {
   "cell_type": "code",
   "execution_count": 229,
   "id": "fb568f9b",
   "metadata": {},
   "outputs": [
    {
     "data": {
      "text/plain": [
       "{'eeg': tensor([[ 0.0708, -0.1510, -0.4029,  ..., -0.6999, -0.3084,  0.0657],\n",
       "         [ 0.2275, -0.3112, -0.9725,  ..., -1.2034, -0.4301,  0.2263],\n",
       "         [-0.0719,  0.0073,  0.1354,  ...,  0.1094, -0.0090, -0.0722],\n",
       "         ...,\n",
       "         [-0.1027,  0.5589,  1.2396,  ...,  1.0714,  0.4695, -0.1056],\n",
       "         [-0.0073,  0.0235,  0.0556,  ...,  0.0529,  0.0222, -0.0074],\n",
       "         [-0.0838,  0.4055,  0.9156,  ...,  0.9054,  0.4006, -0.0851]]),\n",
       " 'image': 1995,\n",
       " 'label': 13,\n",
       " 'subject': 5}"
      ]
     },
     "execution_count": 229,
     "metadata": {},
     "output_type": "execute_result"
    }
   ],
   "source": [
    "model3['dataset'][-1]"
   ]
  },
  {
   "cell_type": "code",
   "execution_count": 161,
   "id": "2add9f0d",
   "metadata": {},
   "outputs": [
    {
     "data": {
      "text/plain": [
       "'n02389026'"
      ]
     },
     "execution_count": 161,
     "metadata": {},
     "output_type": "execute_result"
    }
   ],
   "source": [
    "model3['labels'][0]"
   ]
  },
  {
   "cell_type": "code",
   "execution_count": 128,
   "id": "64481e1e",
   "metadata": {},
   "outputs": [],
   "source": [
    "labels = sorted(model3['labels'])"
   ]
  },
  {
   "cell_type": "code",
   "execution_count": 129,
   "id": "8c68beb9",
   "metadata": {},
   "outputs": [
    {
     "data": {
      "text/plain": [
       "'n02106662'"
      ]
     },
     "execution_count": 129,
     "metadata": {},
     "output_type": "execute_result"
    }
   ],
   "source": [
    "labels[0]"
   ]
  },
  {
   "cell_type": "code",
   "execution_count": 141,
   "id": "e49eed15",
   "metadata": {},
   "outputs": [
    {
     "data": {
      "text/plain": [
       "'n02951358'"
      ]
     },
     "execution_count": 141,
     "metadata": {},
     "output_type": "execute_result"
    }
   ],
   "source": [
    "labels[model3['dataset'][0]['label']]"
   ]
  },
  {
   "cell_type": "code",
   "execution_count": 124,
   "id": "ce5922aa",
   "metadata": {},
   "outputs": [
    {
     "data": {
      "text/plain": [
       "'n02389026'"
      ]
     },
     "execution_count": 124,
     "metadata": {},
     "output_type": "execute_result"
    }
   ],
   "source": [
    "model3['labels'][0]"
   ]
  },
  {
   "cell_type": "code",
   "execution_count": 180,
   "id": "5ae97624",
   "metadata": {},
   "outputs": [],
   "source": [
    "data_label_list = []\n",
    "\n",
    "for i in range(len(model3['dataset'])):\n",
    "    data_label_list.append(model3['dataset'][i]['label'])"
   ]
  },
  {
   "cell_type": "code",
   "execution_count": 200,
   "id": "e5bfbef3",
   "metadata": {},
   "outputs": [
    {
     "name": "stdout",
     "output_type": "stream",
     "text": [
      "n02951358\n",
      "n03452741\n",
      "n04069434\n",
      "n02951358\n",
      "n03452741\n",
      "n03376595\n",
      "n02906734\n",
      "n03452741\n",
      "n02607072\n",
      "n02510455\n"
     ]
    }
   ],
   "source": [
    "for i in range(10):\n",
    "    print(model3['labels'][data_label_list[i]])"
   ]
  },
  {
   "cell_type": "code",
   "execution_count": 208,
   "id": "41f7c4e2",
   "metadata": {},
   "outputs": [],
   "source": [
    "data_label_list_str = []\n",
    "for i in range(len(model3['labels'])):\n",
    "    data_label_list_str.append(model3['labels'][i])"
   ]
  },
  {
   "cell_type": "code",
   "execution_count": 210,
   "id": "c6094d01",
   "metadata": {},
   "outputs": [
    {
     "data": {
      "text/plain": [
       "['n02389026',\n",
       " 'n03888257',\n",
       " 'n03584829',\n",
       " 'n02607072',\n",
       " 'n03297495',\n",
       " 'n03063599',\n",
       " 'n03792782',\n",
       " 'n04086273',\n",
       " 'n02510455',\n",
       " 'n11939491']"
      ]
     },
     "execution_count": 210,
     "metadata": {},
     "output_type": "execute_result"
    }
   ],
   "source": [
    "data_label_list_str[:10]"
   ]
  },
  {
   "cell_type": "code",
   "execution_count": 219,
   "id": "f68bb233",
   "metadata": {},
   "outputs": [
    {
     "data": {
      "text/plain": [
       "'n02951358_31190'"
      ]
     },
     "execution_count": 219,
     "metadata": {},
     "output_type": "execute_result"
    }
   ],
   "source": [
    "model3['images'][0]"
   ]
  },
  {
   "cell_type": "code",
   "execution_count": 220,
   "id": "cbdda01e",
   "metadata": {},
   "outputs": [],
   "source": [
    "data_image_dict = {}\n",
    "for i in model3['images']:\n",
    "    for j in data_label_list_str:\n",
    "        if i[:9] == j:\n",
    "            "
   ]
  },
  {
   "cell_type": "code",
   "execution_count": 222,
   "id": "ce61ca10",
   "metadata": {},
   "outputs": [
    {
     "data": {
      "text/plain": [
       "['n02951358_31190',\n",
       " 'n03452741_16744',\n",
       " 'n04069434_10318',\n",
       " 'n02951358_34807',\n",
       " 'n03452741_5499',\n",
       " 'n03376595_247',\n",
       " 'n02906734_14010',\n",
       " 'n03452741_2982',\n",
       " 'n02607072_5873',\n",
       " 'n02510455_96034']"
      ]
     },
     "execution_count": 222,
     "metadata": {},
     "output_type": "execute_result"
    }
   ],
   "source": [
    "data_image_list[:10]"
   ]
  },
  {
   "cell_type": "code",
   "execution_count": null,
   "id": "d8b1dfc0",
   "metadata": {},
   "outputs": [],
   "source": []
  },
  {
   "cell_type": "code",
   "execution_count": null,
   "id": "4e3daa74",
   "metadata": {},
   "outputs": [],
   "source": []
  },
  {
   "cell_type": "code",
   "execution_count": null,
   "id": "59642312",
   "metadata": {},
   "outputs": [],
   "source": []
  },
  {
   "cell_type": "code",
   "execution_count": null,
   "id": "a91fdc53",
   "metadata": {},
   "outputs": [],
   "source": []
  },
  {
   "cell_type": "code",
   "execution_count": null,
   "id": "20cc0cf2",
   "metadata": {},
   "outputs": [],
   "source": []
  },
  {
   "cell_type": "code",
   "execution_count": null,
   "id": "0d78b465",
   "metadata": {},
   "outputs": [],
   "source": []
  },
  {
   "cell_type": "code",
   "execution_count": 125,
   "id": "76bf23a0",
   "metadata": {},
   "outputs": [],
   "source": [
    "images = sorted(model3['images'])"
   ]
  },
  {
   "cell_type": "code",
   "execution_count": 126,
   "id": "e3195249",
   "metadata": {},
   "outputs": [
    {
     "data": {
      "text/plain": [
       "'n02106662_10232'"
      ]
     },
     "execution_count": 126,
     "metadata": {},
     "output_type": "execute_result"
    }
   ],
   "source": [
    "images[0]"
   ]
  },
  {
   "cell_type": "code",
   "execution_count": 154,
   "id": "83004df8",
   "metadata": {},
   "outputs": [
    {
     "data": {
      "text/plain": [
       "['n02951358_31190',\n",
       " 'n03452741_16744',\n",
       " 'n04069434_10318',\n",
       " 'n02951358_34807',\n",
       " 'n03452741_5499',\n",
       " 'n03376595_247',\n",
       " 'n02906734_14010',\n",
       " 'n03452741_2982',\n",
       " 'n02607072_5873',\n",
       " 'n02510455_96034']"
      ]
     },
     "execution_count": 154,
     "metadata": {},
     "output_type": "execute_result"
    }
   ],
   "source": [
    "model3['images'][:10]"
   ]
  },
  {
   "cell_type": "code",
   "execution_count": 35,
   "id": "d097abb3",
   "metadata": {},
   "outputs": [],
   "source": [
    "import torch\n",
    "from torch import nn\n",
    "import pickle"
   ]
  },
  {
   "cell_type": "code",
   "execution_count": null,
   "id": "f6e79b8c",
   "metadata": {},
   "outputs": [],
   "source": []
  },
  {
   "cell_type": "code",
   "execution_count": 29,
   "id": "d71467ae",
   "metadata": {},
   "outputs": [],
   "source": [
    "import numpy as np\n",
    "import pickle"
   ]
  },
  {
   "cell_type": "code",
   "execution_count": null,
   "id": "14c3c152",
   "metadata": {},
   "outputs": [],
   "source": []
  },
  {
   "cell_type": "code",
   "execution_count": 30,
   "id": "c662ec96",
   "metadata": {},
   "outputs": [
    {
     "ename": "FileNotFoundError",
     "evalue": "[Errno 2] No such file or directory: 'dataset/eeg_imagenet40_cvpr_2017_raw/test/n02106662_16778_1.npy'",
     "output_type": "error",
     "traceback": [
      "\u001b[0;31m---------------------------------------------------------------------------\u001b[0m",
      "\u001b[0;31mFileNotFoundError\u001b[0m                         Traceback (most recent call last)",
      "\u001b[0;32m/tmp/ipykernel_3439200/818880251.py\u001b[0m in \u001b[0;36m<module>\u001b[0;34m\u001b[0m\n\u001b[0;32m----> 1\u001b[0;31m \u001b[0mm\u001b[0m \u001b[0;34m=\u001b[0m \u001b[0mnp\u001b[0m\u001b[0;34m.\u001b[0m\u001b[0mload\u001b[0m\u001b[0;34m(\u001b[0m\u001b[0;34m'dataset/eeg_imagenet40_cvpr_2017_raw/test/n02106662_16778_1.npy'\u001b[0m\u001b[0;34m,\u001b[0m \u001b[0mallow_pickle\u001b[0m\u001b[0;34m=\u001b[0m\u001b[0;32mTrue\u001b[0m\u001b[0;34m)\u001b[0m\u001b[0;34m\u001b[0m\u001b[0;34m\u001b[0m\u001b[0m\n\u001b[0m",
      "\u001b[0;32m/opt/conda/lib/python3.8/site-packages/numpy/lib/npyio.py\u001b[0m in \u001b[0;36mload\u001b[0;34m(file, mmap_mode, allow_pickle, fix_imports, encoding)\u001b[0m\n\u001b[1;32m    415\u001b[0m             \u001b[0mown_fid\u001b[0m \u001b[0;34m=\u001b[0m \u001b[0;32mFalse\u001b[0m\u001b[0;34m\u001b[0m\u001b[0;34m\u001b[0m\u001b[0m\n\u001b[1;32m    416\u001b[0m         \u001b[0;32melse\u001b[0m\u001b[0;34m:\u001b[0m\u001b[0;34m\u001b[0m\u001b[0;34m\u001b[0m\u001b[0m\n\u001b[0;32m--> 417\u001b[0;31m             \u001b[0mfid\u001b[0m \u001b[0;34m=\u001b[0m \u001b[0mstack\u001b[0m\u001b[0;34m.\u001b[0m\u001b[0menter_context\u001b[0m\u001b[0;34m(\u001b[0m\u001b[0mopen\u001b[0m\u001b[0;34m(\u001b[0m\u001b[0mos_fspath\u001b[0m\u001b[0;34m(\u001b[0m\u001b[0mfile\u001b[0m\u001b[0;34m)\u001b[0m\u001b[0;34m,\u001b[0m \u001b[0;34m\"rb\"\u001b[0m\u001b[0;34m)\u001b[0m\u001b[0;34m)\u001b[0m\u001b[0;34m\u001b[0m\u001b[0;34m\u001b[0m\u001b[0m\n\u001b[0m\u001b[1;32m    418\u001b[0m             \u001b[0mown_fid\u001b[0m \u001b[0;34m=\u001b[0m \u001b[0;32mTrue\u001b[0m\u001b[0;34m\u001b[0m\u001b[0;34m\u001b[0m\u001b[0m\n\u001b[1;32m    419\u001b[0m \u001b[0;34m\u001b[0m\u001b[0m\n",
      "\u001b[0;31mFileNotFoundError\u001b[0m: [Errno 2] No such file or directory: 'dataset/eeg_imagenet40_cvpr_2017_raw/test/n02106662_16778_1.npy'"
     ]
    }
   ],
   "source": [
    "m = np.load('dataset/eeg_imagenet40_cvpr_2017_raw/test/n02106662_16778_1.npy', allow_pickle=True)"
   ]
  },
  {
   "cell_type": "code",
   "execution_count": 26,
   "id": "f7088367",
   "metadata": {},
   "outputs": [
    {
     "name": "stdout",
     "output_type": "stream",
     "text": [
      "[array([[[117, 104,  85],\n",
      "         [120, 107,  88],\n",
      "         [125, 112,  93],\n",
      "         ...,\n",
      "         [ 74,  73,  53],\n",
      "         [ 72,  71,  51],\n",
      "         [ 72,  71,  51]],\n",
      "\n",
      "        [[117, 104,  85],\n",
      "         [120, 107,  88],\n",
      "         [125, 112,  93],\n",
      "         ...,\n",
      "         [ 91,  90,  70],\n",
      "         [ 81,  80,  60],\n",
      "         [ 75,  74,  54]],\n",
      "\n",
      "        [[118, 105,  86],\n",
      "         [121, 108,  89],\n",
      "         [125, 112,  93],\n",
      "         ...,\n",
      "         [110, 109,  91],\n",
      "         [ 99,  98,  80],\n",
      "         [ 92,  91,  73]],\n",
      "\n",
      "        ...,\n",
      "\n",
      "        [[ 59,  41,  27],\n",
      "         [ 60,  43,  27],\n",
      "         [ 59,  42,  24],\n",
      "         ...,\n",
      "         [129, 115,  80],\n",
      "         [126, 112,  77],\n",
      "         [123, 109,  74]],\n",
      "\n",
      "        [[ 72,  55,  39],\n",
      "         [ 69,  52,  34],\n",
      "         [ 62,  45,  25],\n",
      "         ...,\n",
      "         [124, 110,  75],\n",
      "         [121, 107,  72],\n",
      "         [118, 104,  69]],\n",
      "\n",
      "        [[ 98,  81,  63],\n",
      "         [ 91,  74,  54],\n",
      "         [ 78,  62,  39],\n",
      "         ...,\n",
      "         [112,  98,  63],\n",
      "         [109,  95,  60],\n",
      "         [105,  91,  56]]], dtype=uint8)\n",
      " array([[ -10.,  -28.,   30., ...,  514.,  863.,  134.],\n",
      "        [ 574.,  430.,   -7., ...,  343.,  426.,  482.],\n",
      "        [ 497., -542.,  828., ...,  686.,  958.,  106.],\n",
      "        ...,\n",
      "        [ 208.,  267.,  136., ...,  -95.,    3., -159.],\n",
      "        [-188., -149., -133., ..., -268.,  410.,  354.],\n",
      "        [ 443.,  377.,  259., ..., 2066., 2178., 2982.]], dtype=float32)\n",
      " 12 'n02106662_16778' 1]\n",
      "5\n"
     ]
    },
    {
     "data": {
      "text/plain": [
       "(None, None)"
      ]
     },
     "execution_count": 26,
     "metadata": {},
     "output_type": "execute_result"
    }
   ],
   "source": [
    "print(m), print(len(m))"
   ]
  },
  {
   "cell_type": "code",
   "execution_count": 21,
   "id": "21521fea",
   "metadata": {},
   "outputs": [
    {
     "name": "stdout",
     "output_type": "stream",
     "text": [
      "[[[117 104  85]\n",
      "  [120 107  88]\n",
      "  [125 112  93]\n",
      "  ...\n",
      "  [ 74  73  53]\n",
      "  [ 72  71  51]\n",
      "  [ 72  71  51]]\n",
      "\n",
      " [[117 104  85]\n",
      "  [120 107  88]\n",
      "  [125 112  93]\n",
      "  ...\n",
      "  [ 91  90  70]\n",
      "  [ 81  80  60]\n",
      "  [ 75  74  54]]\n",
      "\n",
      " [[118 105  86]\n",
      "  [121 108  89]\n",
      "  [125 112  93]\n",
      "  ...\n",
      "  [110 109  91]\n",
      "  [ 99  98  80]\n",
      "  [ 92  91  73]]\n",
      "\n",
      " ...\n",
      "\n",
      " [[ 59  41  27]\n",
      "  [ 60  43  27]\n",
      "  [ 59  42  24]\n",
      "  ...\n",
      "  [129 115  80]\n",
      "  [126 112  77]\n",
      "  [123 109  74]]\n",
      "\n",
      " [[ 72  55  39]\n",
      "  [ 69  52  34]\n",
      "  [ 62  45  25]\n",
      "  ...\n",
      "  [124 110  75]\n",
      "  [121 107  72]\n",
      "  [118 104  69]]\n",
      "\n",
      " [[ 98  81  63]\n",
      "  [ 91  74  54]\n",
      "  [ 78  62  39]\n",
      "  ...\n",
      "  [112  98  63]\n",
      "  [109  95  60]\n",
      "  [105  91  56]]]\n"
     ]
    }
   ],
   "source": [
    "print(m[0])"
   ]
  },
  {
   "cell_type": "code",
   "execution_count": 22,
   "id": "158e015e",
   "metadata": {},
   "outputs": [
    {
     "name": "stdout",
     "output_type": "stream",
     "text": [
      "[[ -10.  -28.   30. ...  514.  863.  134.]\n",
      " [ 574.  430.   -7. ...  343.  426.  482.]\n",
      " [ 497. -542.  828. ...  686.  958.  106.]\n",
      " ...\n",
      " [ 208.  267.  136. ...  -95.    3. -159.]\n",
      " [-188. -149. -133. ... -268.  410.  354.]\n",
      " [ 443.  377.  259. ... 2066. 2178. 2982.]]\n"
     ]
    }
   ],
   "source": [
    "print(m[1])"
   ]
  },
  {
   "cell_type": "code",
   "execution_count": 23,
   "id": "8c895d12",
   "metadata": {},
   "outputs": [
    {
     "name": "stdout",
     "output_type": "stream",
     "text": [
      "12\n"
     ]
    }
   ],
   "source": [
    "print(m[2])"
   ]
  },
  {
   "cell_type": "code",
   "execution_count": 27,
   "id": "a93bfea9",
   "metadata": {},
   "outputs": [
    {
     "name": "stdout",
     "output_type": "stream",
     "text": [
      "n02106662_16778\n"
     ]
    }
   ],
   "source": [
    "print(m[3])"
   ]
  },
  {
   "cell_type": "code",
   "execution_count": 28,
   "id": "0fe8a605",
   "metadata": {},
   "outputs": [
    {
     "name": "stdout",
     "output_type": "stream",
     "text": [
      "1\n"
     ]
    }
   ],
   "source": [
    "print(m[4])"
   ]
  },
  {
   "cell_type": "code",
   "execution_count": null,
   "id": "920ffbd6",
   "metadata": {},
   "outputs": [],
   "source": []
  },
  {
   "cell_type": "code",
   "execution_count": null,
   "id": "7e357f92",
   "metadata": {},
   "outputs": [],
   "source": []
  },
  {
   "cell_type": "code",
   "execution_count": null,
   "id": "1da175cb",
   "metadata": {},
   "outputs": [],
   "source": []
  },
  {
   "cell_type": "code",
   "execution_count": null,
   "id": "5429f3e5",
   "metadata": {},
   "outputs": [],
   "source": []
  },
  {
   "cell_type": "code",
   "execution_count": null,
   "id": "88dc0f30",
   "metadata": {},
   "outputs": [],
   "source": []
  },
  {
   "cell_type": "code",
   "execution_count": null,
   "id": "669d7707",
   "metadata": {},
   "outputs": [],
   "source": []
  },
  {
   "cell_type": "code",
   "execution_count": null,
   "id": "7cf9de7b",
   "metadata": {},
   "outputs": [],
   "source": []
  }
 ],
 "metadata": {
  "kernelspec": {
   "display_name": "Python 3 (ipykernel)",
   "language": "python",
   "name": "python3"
  },
  "language_info": {
   "codemirror_mode": {
    "name": "ipython",
    "version": 3
   },
   "file_extension": ".py",
   "mimetype": "text/x-python",
   "name": "python",
   "nbconvert_exporter": "python",
   "pygments_lexer": "ipython3",
   "version": "3.8.10"
  }
 },
 "nbformat": 4,
 "nbformat_minor": 5
}
